{
 "cells": [
  {
   "cell_type": "code",
   "execution_count": 1,
   "id": "1dede4d4",
   "metadata": {},
   "outputs": [
    {
     "name": "stdout",
     "output_type": "stream",
     "text": [
      "Successfully authenticated with Reddit API.\n"
     ]
    }
   ],
   "source": [
    "import os\n",
    "import praw\n",
    "import pandas as pd\n",
    "from dotenv import load_dotenv\n",
    "\n",
    "# Load environment variables from .env file\n",
    "load_dotenv()\n",
    "\n",
    "# Initialize the Reddit instance with your credentials\n",
    "reddit = praw.Reddit(\n",
    "    client_id=os.getenv(\"REDDIT_CLIENT_ID\"),\n",
    "    client_secret=os.getenv(\"REDDIT_CLIENT_SECRET\"),\n",
    "    user_agent=\"Vizuara-GPT5-Analysis by u/LazyStranger5730\" # IMPORTANT: Change this\n",
    ")\n",
    "\n",
    "print(\"Successfully authenticated with Reddit API.\")"
   ]
  },
  {
   "cell_type": "code",
   "execution_count": 2,
   "id": "0c570d05",
   "metadata": {},
   "outputs": [
    {
     "name": "stdout",
     "output_type": "stream",
     "text": [
      "Fetching all comments... This might take a moment.\n",
      "Successfully collected 5340 comments.\n"
     ]
    }
   ],
   "source": [
    "# The URL of the Reddit AMA \n",
    "\n",
    "submission_url = \"https://www.reddit.com/r/ChatGPT/comments/1mkae1l/gpt5_ama_with_openais_sam_altman_and_some_of_the/\" \n",
    "\n",
    "submission = reddit.submission(url=submission_url)\n",
    "\n",
    "# This part is crucial for getting ALL comments, including nested ones\n",
    "print(\"Fetching all comments... This might take a moment.\")\n",
    "submission.comments.replace_more(limit=None) \n",
    "\n",
    "# Loop through all comments and store their text in a list\n",
    "all_comments = []\n",
    "for comment in submission.comments.list():\n",
    "    # We only care about the comment body for text clustering\n",
    "    all_comments.append(comment.body)\n",
    "\n",
    "print(f\"Successfully collected {len(all_comments)} comments.\")"
   ]
  },
  {
   "cell_type": "code",
   "execution_count": 3,
   "id": "65cacd4b",
   "metadata": {},
   "outputs": [
    {
     "name": "stdout",
     "output_type": "stream",
     "text": [
      "Data saved to reddit_gpt5_comments.csv\n"
     ]
    }
   ],
   "source": [
    "# Create a pandas DataFrame\n",
    "df = pd.DataFrame(all_comments, columns=['comment_text'])\n",
    "\n",
    "# Drop any rows that might be empty or deleted\n",
    "df.dropna(inplace=True)\n",
    "df = df[df['comment_text'] != '[deleted]']\n",
    "df = df[df['comment_text'] != '[removed]']\n",
    "\n",
    "\n",
    "# Save the DataFrame to a CSV file\n",
    "output_file = 'reddit_gpt5_comments.csv'\n",
    "df.to_csv(output_file, index=False)\n",
    "\n",
    "print(f\"Data saved to {output_file}\")"
   ]
  }
 ],
 "metadata": {
  "kernelspec": {
   "display_name": "base",
   "language": "python",
   "name": "python3"
  },
  "language_info": {
   "codemirror_mode": {
    "name": "ipython",
    "version": 3
   },
   "file_extension": ".py",
   "mimetype": "text/x-python",
   "name": "python",
   "nbconvert_exporter": "python",
   "pygments_lexer": "ipython3",
   "version": "3.11.5"
  }
 },
 "nbformat": 4,
 "nbformat_minor": 5
}
